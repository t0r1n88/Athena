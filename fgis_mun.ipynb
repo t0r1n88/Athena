{
 "cells": [
  {
   "cell_type": "code",
   "execution_count": 26,
   "id": "639ed53f",
   "metadata": {},
   "outputs": [
    {
     "data": {
      "text/plain": [
       "'\\nМелкие скрипты для работы мое2й школы данные по муниципалитету\\n'"
      ]
     },
     "execution_count": 26,
     "metadata": {},
     "output_type": "execute_result"
    }
   ],
   "source": [
    "\"\"\"\n",
    "Мелкие скрипты для работы мое2й школы данные по муниципалитету\n",
    "\"\"\""
   ]
  },
  {
   "cell_type": "code",
   "execution_count": 27,
   "id": "3883dbe3",
   "metadata": {},
   "outputs": [],
   "source": [
    "import pandas as pd\n",
    "import openpyxl\n",
    "from openpyxl.utils.dataframe import dataframe_to_rows\n",
    "from openpyxl.utils import get_column_letter\n",
    "from datetime import datetime\n",
    "from openpyxl.chart import BarChart, Reference\n",
    "import numpy as np\n",
    "import os"
   ]
  },
  {
   "cell_type": "code",
   "execution_count": 28,
   "id": "720cc83e",
   "metadata": {},
   "outputs": [],
   "source": [
    "folder_data = 'data/Муниципалитеты'\n",
    "path_end_folder = 'data'"
   ]
  },
  {
   "cell_type": "code",
   "execution_count": 29,
   "id": "f6d58bac",
   "metadata": {},
   "outputs": [
    {
     "name": "stderr",
     "output_type": "stream",
     "text": [
      "C:\\Users\\1\\AppData\\Local\\Temp/ipykernel_16648/2151442652.py:20: DeprecationWarning: In a future version, `df.iloc[:, i] = newvals` will attempt to set the values inplace instead of always setting a new array. To retain the old behavior, use either `df[df.columns[i]] = newvals` or, if columns are non-unique, `df.isetitem(i, newvals)`\n",
      "  df_43.iloc[:,1] =df_43.iloc[:,1].astype(float)\n",
      "C:\\Users\\1\\AppData\\Local\\Temp/ipykernel_16648/2151442652.py:20: DeprecationWarning: In a future version, `df.iloc[:, i] = newvals` will attempt to set the values inplace instead of always setting a new array. To retain the old behavior, use either `df[df.columns[i]] = newvals` or, if columns are non-unique, `df.isetitem(i, newvals)`\n",
      "  df_43.iloc[:,1] =df_43.iloc[:,1].astype(float)\n",
      "C:\\Users\\1\\AppData\\Local\\Temp/ipykernel_16648/2151442652.py:20: DeprecationWarning: In a future version, `df.iloc[:, i] = newvals` will attempt to set the values inplace instead of always setting a new array. To retain the old behavior, use either `df[df.columns[i]] = newvals` or, if columns are non-unique, `df.isetitem(i, newvals)`\n",
      "  df_43.iloc[:,1] =df_43.iloc[:,1].astype(float)\n"
     ]
    }
   ],
   "source": [
    "current_date = datetime.now()\n",
    "formatted_date = current_date.strftime(\"%d_%m_%Y\")\n",
    "for file in os.listdir(folder_data):\n",
    "    if (file.endswith('.xlsx') and not file.startswith('~$')):\n",
    "        name_file = file.split('.xlsx')[0] # получаем название файла\n",
    "        wb = openpyxl.load_workbook(f'{folder_data}/{file}')\n",
    "        lst_sheet = [] # листы для обработки\n",
    "        for sheet in  wb.sheetnames:\n",
    "            if ('43' in sheet) or ('44' in sheet):\n",
    "                lst_sheet.append(sheet)\n",
    "            # удаляем лишние листы\n",
    "        for sheet_name in wb.sheetnames[2:]:\n",
    "            if not ('43' in sheet) or  not ('44' in sheet):\n",
    "                del wb[sheet_name]              \n",
    "                \n",
    "        wb.create_sheet(title='43 Рейтинг активности',index=2)\n",
    "        wb.create_sheet(title='44 Активные пользователи',index=3)\n",
    "        df_43 = pd.read_excel(f'{folder_data}/{file}',sheet_name=lst_sheet[0]) # получаем рейтинг событий по муниципалитету\n",
    "    #\n",
    "        df_43.iloc[:,1] =df_43.iloc[:,1].astype(float)\n",
    "\n",
    "\n",
    "        df_43.rename(columns={'Unnamed: 0':'Школа'},inplace=True)\n",
    "        sort_column = df_43.columns[1]\n",
    "\n",
    "        df_43.sort_values(by=sort_column,ascending=False,inplace=True)\n",
    "\n",
    "        for row in dataframe_to_rows(df_43,index=False,header=True):\n",
    "            wb['43 Рейтинг активности'].append(row)\n",
    "        # сохраняем по ширине колонок\n",
    "        for column in wb['43 Рейтинг активности'].columns:\n",
    "            max_length = 0\n",
    "            column_name = get_column_letter(column[0].column)\n",
    "            for cell in column:\n",
    "                try:\n",
    "                    if len(str(cell.value)) > max_length:\n",
    "                        max_length = len(cell.value)\n",
    "                except:\n",
    "                    pass\n",
    "            adjusted_width = (max_length + 2)\n",
    "            wb['43 Рейтинг активности'].column_dimensions[column_name].width = adjusted_width\n",
    "        \n",
    "        # рисуем график\n",
    "        chart = BarChart()\n",
    "        chart.title = \"Диаграмма\"\n",
    "        chart.y_axis.title = 'Количество событий'\n",
    "        chart.x_axis.title = 'Школа'\n",
    "\n",
    "        data = Reference(wb['43 Рейтинг активности'], min_col=2, min_row=1, max_row=len(df_43)+1, max_col=2)\n",
    "        categories = Reference(wb['43 Рейтинг активности'], min_col=1, min_row=2, max_row=len(df_43)+1)\n",
    "        # Установите размер диаграммы\n",
    "        chart.width = 30  # Установите желаемую ширину диаграммы\n",
    "        chart.height = 20  # Установите желаемую высоту диаграммы\n",
    "\n",
    "        chart.add_data(data, titles_from_data=True)\n",
    "        chart.set_categories(categories)\n",
    "        chart.y_axis.title = None\n",
    "        chart.type = \"bar\"\n",
    "\n",
    "        wb['43 Рейтинг активности'].add_chart(chart, \"D1\")\n",
    "        \n",
    "        \n",
    "        # Обрабатываем 44 лист\n",
    "        df_44 = pd.read_excel(f'{folder_data}/{file}',sheet_name=lst_sheet[1]) # получаем рейтинг активных школ по муниципалитету\n",
    "    #\n",
    "        df_44.iloc[:,1] =df_44.iloc[:,1].astype(float)\n",
    "\n",
    "\n",
    "        df_44.rename(columns={'Unnamed: 0':'Школа'},inplace=True)\n",
    "        sort_column = df_44.columns[1]\n",
    "\n",
    "        df_44.sort_values(by=sort_column,ascending=False,inplace=True)\n",
    "\n",
    "        for row in dataframe_to_rows(df_44,index=False,header=True):\n",
    "            wb['44 Активные пользователи'].append(row)\n",
    "        # сохраняем по ширине колонок\n",
    "        for column in wb['44 Активные пользователи'].columns:\n",
    "            max_length = 0\n",
    "            column_name = get_column_letter(column[0].column)\n",
    "            for cell in column:\n",
    "                try:\n",
    "                    if len(str(cell.value)) > max_length:\n",
    "                        max_length = len(cell.value)\n",
    "                except:\n",
    "                    pass\n",
    "            adjusted_width = (max_length + 2)\n",
    "            wb['44 Активные пользователи'].column_dimensions[column_name].width = adjusted_width\n",
    "        \n",
    "        # рисуем график\n",
    "        chart = BarChart()\n",
    "        chart.title = \"Диаграмма\"\n",
    "        chart.y_axis.title = 'Активные пользователи'\n",
    "        chart.x_axis.title = 'Школа'\n",
    "\n",
    "        data = Reference(wb['44 Активные пользователи'], min_col=2, min_row=1, max_row=len(df_44)+1, max_col=2)\n",
    "        categories = Reference(wb['44 Активные пользователи'], min_col=1, min_row=2, max_row=len(df_44)+1)\n",
    "        # Установите размер диаграммы\n",
    "        chart.width = 30  # Установите желаемую ширину диаграммы\n",
    "        chart.height = 20  # Установите желаемую высоту диаграммы\n",
    "\n",
    "        chart.add_data(data, titles_from_data=True)\n",
    "        chart.set_categories(categories)\n",
    "        chart.y_axis.title = None\n",
    "        chart.type = \"bar\"\n",
    "\n",
    "        wb['44 Активные пользователи'].add_chart(chart, \"D1\")\n",
    "        \n",
    "        # Сохраняем с названием\n",
    "        \n",
    "        wb.save(f'{path_end_folder}/Отчет {name_file} от {formatted_date}.xlsx')\n",
    "        \n",
    "        \n",
    "        \n",
    "\n",
    "\n",
    "\n",
    "        \n",
    "        "
   ]
  },
  {
   "cell_type": "code",
   "execution_count": null,
   "id": "a28ed52f",
   "metadata": {},
   "outputs": [],
   "source": []
  },
  {
   "cell_type": "code",
   "execution_count": null,
   "id": "e465c28e",
   "metadata": {},
   "outputs": [],
   "source": []
  },
  {
   "cell_type": "code",
   "execution_count": null,
   "id": "17f72a9d",
   "metadata": {},
   "outputs": [],
   "source": []
  },
  {
   "cell_type": "code",
   "execution_count": null,
   "id": "fbbb1e7c",
   "metadata": {},
   "outputs": [],
   "source": []
  },
  {
   "cell_type": "code",
   "execution_count": null,
   "id": "2b84f881",
   "metadata": {},
   "outputs": [],
   "source": []
  }
 ],
 "metadata": {
  "kernelspec": {
   "display_name": "Python 3 (ipykernel)",
   "language": "python",
   "name": "python3"
  },
  "language_info": {
   "codemirror_mode": {
    "name": "ipython",
    "version": 3
   },
   "file_extension": ".py",
   "mimetype": "text/x-python",
   "name": "python",
   "nbconvert_exporter": "python",
   "pygments_lexer": "ipython3",
   "version": "3.9.7"
  }
 },
 "nbformat": 4,
 "nbformat_minor": 5
}
