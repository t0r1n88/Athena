{
 "cells": [
  {
   "cell_type": "code",
   "execution_count": 18,
   "id": "639ed53f",
   "metadata": {},
   "outputs": [
    {
     "data": {
      "text/plain": [
       "'\\nМелкие скрипты для работы мое2й школы данные по муниципалитету\\n'"
      ]
     },
     "execution_count": 18,
     "metadata": {},
     "output_type": "execute_result"
    }
   ],
   "source": [
    "\"\"\"\n",
    "Мелкие скрипты для работы мое2й школы данные по муниципалитету\n",
    "\"\"\""
   ]
  },
  {
   "cell_type": "code",
   "execution_count": 19,
   "id": "3883dbe3",
   "metadata": {},
   "outputs": [],
   "source": [
    "import pandas as pd\n",
    "import openpyxl\n",
    "from openpyxl.utils.dataframe import dataframe_to_rows\n",
    "from openpyxl.utils import get_column_letter\n",
    "import time\n",
    "from openpyxl.chart import BarChart, Reference\n",
    "import numpy as np\n",
    "import os"
   ]
  },
  {
   "cell_type": "code",
   "execution_count": 26,
   "id": "8c631633",
   "metadata": {},
   "outputs": [],
   "source": [
    "def copy_sheet(source_workbook ,source_sheet_name,destination_workbook ,destination_sheet_name):\n",
    "    \"\"\"\n",
    "    Функция для копирования листа с сохранением форматирования\n",
    "    \"\"\"\n",
    "    # получаем исходный лист\n",
    "    source_sheet = source_workbook[source_sheet_name]\n",
    "    destination_sheet = destination_workbook.create_sheet(destination_sheet_name) # создаем лист в конечной книге\n",
    "    # Копируйте ячейки из исходного листа в целевой лист\n",
    "    for row in source_sheet.iter_rows():\n",
    "        for cell in row:\n",
    "            new_cell = destination_sheet.cell(row=cell.row, column=cell.column, value=cell.value)\n",
    "            new_cell.font = cell.font  # Копируйте формат шрифта\n",
    "            new_cell.border = cell.border  # Копируйте грани\n",
    "            new_cell.fill = cell.fill  # Копируйте заливку\n",
    "            new_cell.number_format = cell.number_format  # Копируйте формат чисел\n",
    "            new_cell.alignment = cell.alignment  # Копируйте выравнивание\n",
    "            new_cell.protection = cell.protection  # Копируйте защиту\n",
    "\n",
    "    destination_workbook.save('destination.xlsx')\n",
    "    return destination_workbook\n",
    "    \n",
    "    "
   ]
  },
  {
   "cell_type": "code",
   "execution_count": 27,
   "id": "720cc83e",
   "metadata": {},
   "outputs": [],
   "source": [
    "folder_data = 'data/Муниципалитеты'\n",
    "path_end_folder = 'data'"
   ]
  },
  {
   "cell_type": "code",
   "execution_count": 28,
   "id": "f6d58bac",
   "metadata": {},
   "outputs": [],
   "source": [
    "for file in os.listdir(folder_data):\n",
    "    if (file.endswith('.xlsx') and not file.startswith('~$')):\n",
    "        wb_temp = openpyxl.load_workbook(f'{folder_data}/{file}')\n",
    "        lst_sheet = [] # листы для обработки\n",
    "        for sheet in  wb_temp.sheetnames:\n",
    "            if ('43' in sheet) or ('44' in sheet):\n",
    "                lst_sheet.append(sheet)\n",
    "        wb_temp.close()\n",
    "        \n",
    "        \n",
    "        wb = openpyxl.Workbook() # создаем итоговый файл\n",
    "        # копируем первый лист\n",
    "        wb = copy_sheet(wb_temp,'1. Лист - Центральный мониторин',wb,'Центральный мониторинг')\n",
    "        \n",
    "        wb.create_sheet(title='43 Доля активных школ',index=0)\n",
    "        wb.create_sheet(title='44 Доля активных польз',index=1)\n",
    "\n",
    "        del wb['Sheet']\n",
    "\n",
    "        \n",
    "        "
   ]
  },
  {
   "cell_type": "code",
   "execution_count": 25,
   "id": "2887fa47",
   "metadata": {},
   "outputs": [],
   "source": [
    "t = time.localtime()\n",
    "current_time = time.strftime('%H_%M_%S', t)\n",
    "wb.save(f'{path_end_folder}/Данные от {current_time}.xlsx')"
   ]
  },
  {
   "cell_type": "code",
   "execution_count": null,
   "id": "46e18594",
   "metadata": {},
   "outputs": [],
   "source": []
  },
  {
   "cell_type": "raw",
   "id": "728022c4",
   "metadata": {},
   "source": [
    "wb_temp = openpyxl.load_workbook(data_file,read_only=True)\n",
    "lst_sheet = [] # листы для обработки\n",
    "for sheet in  wb_temp.sheetnames:\n",
    "    if ('43' in sheet) or ('44' in sheet):\n",
    "        lst_sheet.append(sheet)\n",
    "wb_temp.close()"
   ]
  },
  {
   "cell_type": "raw",
   "id": "fdb6ac25",
   "metadata": {},
   "source": [
    "wb = openpyxl.Workbook() # создаем итоговый файл\n",
    "wb.create_sheet(title='43 Доля активных школ',index=0)\n",
    "wb.create_sheet(title='44 Доля активных польз',index=1)\n",
    "\n",
    "del wb['Sheet']"
   ]
  },
  {
   "cell_type": "code",
   "execution_count": 23,
   "id": "09af531d",
   "metadata": {},
   "outputs": [
    {
     "ename": "NameError",
     "evalue": "name 'data_file' is not defined",
     "output_type": "error",
     "traceback": [
      "\u001b[1;31m---------------------------------------------------------------------------\u001b[0m",
      "\u001b[1;31mNameError\u001b[0m                                 Traceback (most recent call last)",
      "\u001b[1;32m~\\AppData\\Local\\Temp\\ipykernel_16092\\213415089.py\u001b[0m in \u001b[0;36m<module>\u001b[1;34m\u001b[0m\n\u001b[1;32m----> 1\u001b[1;33m \u001b[0mdf_43\u001b[0m \u001b[1;33m=\u001b[0m \u001b[0mpd\u001b[0m\u001b[1;33m.\u001b[0m\u001b[0mread_excel\u001b[0m\u001b[1;33m(\u001b[0m\u001b[0mdata_file\u001b[0m\u001b[1;33m,\u001b[0m\u001b[0msheet_name\u001b[0m\u001b[1;33m=\u001b[0m\u001b[0mlst_sheet\u001b[0m\u001b[1;33m[\u001b[0m\u001b[1;36m0\u001b[0m\u001b[1;33m]\u001b[0m\u001b[1;33m)\u001b[0m \u001b[1;31m# получаем рейтинг активных школ по муниципалитетам\u001b[0m\u001b[1;33m\u001b[0m\u001b[1;33m\u001b[0m\u001b[0m\n\u001b[0m\u001b[0;32m      2\u001b[0m \u001b[0mdf_43\u001b[0m\u001b[1;33m.\u001b[0m\u001b[0miloc\u001b[0m\u001b[1;33m[\u001b[0m\u001b[1;33m:\u001b[0m\u001b[1;33m,\u001b[0m\u001b[1;36m1\u001b[0m\u001b[1;33m]\u001b[0m \u001b[1;33m=\u001b[0m\u001b[0mdf_43\u001b[0m\u001b[1;33m.\u001b[0m\u001b[0miloc\u001b[0m\u001b[1;33m[\u001b[0m\u001b[1;33m:\u001b[0m\u001b[1;33m,\u001b[0m\u001b[1;36m1\u001b[0m\u001b[1;33m]\u001b[0m\u001b[1;33m.\u001b[0m\u001b[0mastype\u001b[0m\u001b[1;33m(\u001b[0m\u001b[0mfloat\u001b[0m\u001b[1;33m)\u001b[0m\u001b[1;33m\u001b[0m\u001b[1;33m\u001b[0m\u001b[0m\n\u001b[0;32m      3\u001b[0m \u001b[1;33m\u001b[0m\u001b[0m\n\u001b[0;32m      4\u001b[0m \u001b[1;33m\u001b[0m\u001b[0m\n\u001b[0;32m      5\u001b[0m \u001b[0mdf_43\u001b[0m\u001b[1;33m.\u001b[0m\u001b[0mrename\u001b[0m\u001b[1;33m(\u001b[0m\u001b[0mcolumns\u001b[0m\u001b[1;33m=\u001b[0m\u001b[1;33m{\u001b[0m\u001b[1;34m'Unnamed: 0'\u001b[0m\u001b[1;33m:\u001b[0m\u001b[1;34m'Муниципалитет'\u001b[0m\u001b[1;33m}\u001b[0m\u001b[1;33m,\u001b[0m\u001b[0minplace\u001b[0m\u001b[1;33m=\u001b[0m\u001b[1;32mTrue\u001b[0m\u001b[1;33m)\u001b[0m\u001b[1;33m\u001b[0m\u001b[1;33m\u001b[0m\u001b[0m\n",
      "\u001b[1;31mNameError\u001b[0m: name 'data_file' is not defined"
     ]
    }
   ],
   "source": [
    "df_43 = pd.read_excel(data_file,sheet_name=lst_sheet[0]) # получаем рейтинг активных школ по муниципалитетам\n",
    "df_43.iloc[:,1] =df_43.iloc[:,1].astype(float)\n",
    "\n",
    "\n",
    "df_43.rename(columns={'Unnamed: 0':'Муниципалитет'},inplace=True)\n",
    "\n",
    "df_43.sort_values(by='доля активных школ от зарегистрированных в \"Моей школе\"',ascending=False,inplace=True)\n",
    "\n",
    "for row in dataframe_to_rows(df_43,index=False,header=True):\n",
    "    wb['43 Доля активных школ'].append(row)\n",
    "# сохраняем по ширине колонок\n",
    "for column in wb['43 Доля активных школ'].columns:\n",
    "    max_length = 0\n",
    "    column_name = get_column_letter(column[0].column)\n",
    "    for cell in column:\n",
    "        try:\n",
    "            if len(str(cell.value)) > max_length:\n",
    "                max_length = len(cell.value)\n",
    "        except:\n",
    "            pass\n",
    "    adjusted_width = (max_length + 2)\n",
    "    wb['43 Доля активных школ'].column_dimensions[column_name].width = adjusted_width"
   ]
  },
  {
   "cell_type": "code",
   "execution_count": null,
   "id": "a28ed52f",
   "metadata": {},
   "outputs": [],
   "source": [
    "chart = BarChart()\n",
    "chart.title = \"Диаграмма\"\n",
    "chart.y_axis.title = 'Процент активных школ'\n",
    "chart.x_axis.title = 'Муниципалитет'\n",
    "\n",
    "data = Reference(wb['43 Доля активных школ'], min_col=2, min_row=1, max_row=len(df_43)+1, max_col=2)\n",
    "categories = Reference(wb['43 Доля активных школ'], min_col=1, min_row=2, max_row=len(df_43)+1)\n",
    "# Установите размер диаграммы\n",
    "chart.width = 30  # Установите желаемую ширину диаграммы\n",
    "chart.height = 20  # Установите желаемую высоту диаграммы\n",
    "\n",
    "chart.add_data(data, titles_from_data=True)\n",
    "chart.set_categories(categories)\n",
    "chart.y_axis.title = None\n",
    "chart.type = \"bar\"\n",
    "\n",
    "wb['43 Доля активных школ'].add_chart(chart, \"D1\")\n"
   ]
  },
  {
   "cell_type": "code",
   "execution_count": null,
   "id": "f78da29a",
   "metadata": {},
   "outputs": [],
   "source": [
    "# 44\n",
    "df_44 = pd.read_excel(data_file,sheet_name=lst_sheet[1]) # получаем рейтинг активных школ по муниципалитетам\n",
    "df_44.iloc[:,1] =df_44.iloc[:,1].astype(float)\n",
    "\n",
    "\n",
    "df_44.rename(columns={'Unnamed: 0':'Муниципалитет'},inplace=True)\n",
    "\n",
    "df_44.sort_values(by='доля активных пользователей в \"Моей школе\"',ascending=False,inplace=True)\n",
    "\n",
    "\n",
    "for row in dataframe_to_rows(df_44,index=False,header=True):\n",
    "    wb['44 Доля активных польз'].append(row)\n",
    "# сохраняем по ширине колонок\n",
    "for column in wb['44 Доля активных польз'].columns:\n",
    "    max_length = 0\n",
    "    column_name = get_column_letter(column[0].column)\n",
    "    for cell in column:\n",
    "        try:\n",
    "            if len(str(cell.value)) > max_length:\n",
    "                max_length = len(cell.value)\n",
    "        except:\n",
    "            pass\n",
    "    adjusted_width = (max_length + 2)\n",
    "    wb['44 Доля активных польз'].column_dimensions[column_name].width = adjusted_width"
   ]
  },
  {
   "cell_type": "code",
   "execution_count": null,
   "id": "4b484464",
   "metadata": {},
   "outputs": [],
   "source": []
  },
  {
   "cell_type": "code",
   "execution_count": null,
   "id": "50bc31e0",
   "metadata": {},
   "outputs": [],
   "source": [
    "chart = BarChart()\n",
    "chart.title = \"Диаграмма\"\n",
    "chart.y_axis.title = 'Процент активных пользователей'\n",
    "chart.x_axis.title = 'Муниципалитет'\n",
    "\n",
    "data = Reference(wb['44 Доля активных польз'], min_col=2, min_row=1, max_row=len(df_44)+1, max_col=2)\n",
    "categories = Reference(wb['44 Доля активных польз'], min_col=1, min_row=2, max_row=len(df_44)+1)\n",
    "# Установите размер диаграммы\n",
    "chart.width = 30  # Установите желаемую ширину диаграммы\n",
    "chart.height = 20  # Установите желаемую высоту диаграммы\n",
    "\n",
    "chart.add_data(data, titles_from_data=True)\n",
    "chart.set_categories(categories)\n",
    "chart.y_axis.title = None\n",
    "chart.type = \"bar\"\n",
    "\n",
    "wb['44 Доля активных польз'].add_chart(chart, \"D1\")\n",
    "\n"
   ]
  },
  {
   "cell_type": "code",
   "execution_count": null,
   "id": "9d235e39",
   "metadata": {},
   "outputs": [],
   "source": []
  },
  {
   "cell_type": "code",
   "execution_count": null,
   "id": "fb9f6c3d",
   "metadata": {},
   "outputs": [],
   "source": []
  },
  {
   "cell_type": "code",
   "execution_count": null,
   "id": "e465c28e",
   "metadata": {},
   "outputs": [],
   "source": [
    "t = time.localtime()\n",
    "current_time = time.strftime('%H_%M_%S', t)"
   ]
  },
  {
   "cell_type": "code",
   "execution_count": null,
   "id": "17f72a9d",
   "metadata": {},
   "outputs": [],
   "source": []
  },
  {
   "cell_type": "code",
   "execution_count": null,
   "id": "fbbb1e7c",
   "metadata": {},
   "outputs": [],
   "source": [
    "wb.save(f'{path_end_folder}/Данные от {current_time}.xlsx')"
   ]
  }
 ],
 "metadata": {
  "kernelspec": {
   "display_name": "Python 3 (ipykernel)",
   "language": "python",
   "name": "python3"
  },
  "language_info": {
   "codemirror_mode": {
    "name": "ipython",
    "version": 3
   },
   "file_extension": ".py",
   "mimetype": "text/x-python",
   "name": "python",
   "nbconvert_exporter": "python",
   "pygments_lexer": "ipython3",
   "version": "3.9.13"
  }
 },
 "nbformat": 4,
 "nbformat_minor": 5
}
