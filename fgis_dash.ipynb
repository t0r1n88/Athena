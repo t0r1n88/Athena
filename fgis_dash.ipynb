{
 "cells": [
  {
   "cell_type": "code",
   "execution_count": 26,
   "id": "87479fa1",
   "metadata": {},
   "outputs": [
    {
     "data": {
      "text/plain": [
       "'\\nМелкие скрипты для работы мое2й школы\\n'"
      ]
     },
     "execution_count": 26,
     "metadata": {},
     "output_type": "execute_result"
    }
   ],
   "source": [
    "\"\"\"\n",
    "Мелкие скрипты для работы мое2й школы\n",
    "\"\"\""
   ]
  },
  {
   "cell_type": "code",
   "execution_count": 27,
   "id": "e1ba9eac",
   "metadata": {},
   "outputs": [],
   "source": [
    "import pandas as pd\n",
    "import openpyxl\n",
    "from openpyxl.utils.dataframe import dataframe_to_rows\n",
    "from openpyxl.utils import get_column_letter\n",
    "import time\n",
    "from openpyxl.chart import BarChart, Reference\n",
    "import numpy as np"
   ]
  },
  {
   "cell_type": "code",
   "execution_count": 28,
   "id": "f7f965cc",
   "metadata": {},
   "outputs": [],
   "source": [
    "data_file = 'data/Аналитика 30_10_2023.xlsx'\n",
    "\n",
    "path_end_folder = 'data'"
   ]
  },
  {
   "cell_type": "code",
   "execution_count": 29,
   "id": "d76f737f",
   "metadata": {},
   "outputs": [],
   "source": [
    "wb = openpyxl.load_workbook(data_file)\n",
    "lst_sheet = [] # листы для обработки\n",
    "for sheet in  wb.sheetnames:\n",
    "    if ('43' in sheet) or ('44' in sheet):\n",
    "        lst_sheet.append(sheet)\n"
   ]
  },
  {
   "cell_type": "code",
   "execution_count": 30,
   "id": "ad35eb93",
   "metadata": {},
   "outputs": [
    {
     "data": {
      "text/plain": [
       "<Worksheet \"44 Доля активных польз\">"
      ]
     },
     "execution_count": 30,
     "metadata": {},
     "output_type": "execute_result"
    }
   ],
   "source": [
    "# удаляем все листы кроме первого\n",
    "for sheet_name in wb.sheetnames[2:]:\n",
    "    if not ('43' in sheet) or  not ('44' in sheet):\n",
    "        del wb[sheet_name]\n",
    "wb.create_sheet(title='43 Доля активных школ',index=2)\n",
    "wb.create_sheet(title='44 Доля активных польз',index=3)\n",
    "\n"
   ]
  },
  {
   "cell_type": "code",
   "execution_count": 31,
   "id": "bf2ecc9f",
   "metadata": {},
   "outputs": [
    {
     "data": {
      "text/plain": [
       "['Скрытый лист',\n",
       " '1. Лист - Центральный мониторин',\n",
       " '43 Доля активных школ',\n",
       " '44 Доля активных польз']"
      ]
     },
     "execution_count": 31,
     "metadata": {},
     "output_type": "execute_result"
    }
   ],
   "source": [
    "wb.sheetnames"
   ]
  },
  {
   "cell_type": "code",
   "execution_count": 32,
   "id": "67607e89",
   "metadata": {},
   "outputs": [],
   "source": [
    "df_43 = pd.read_excel(data_file,sheet_name=lst_sheet[0]) # получаем рейтинг активных школ по муниципалитетам\n",
    "df_43.iloc[:,1] =df_43.iloc[:,1].astype(float)\n",
    "\n",
    "\n",
    "df_43.rename(columns={'Unnamed: 0':'Муниципалитет'},inplace=True)\n",
    "\n",
    "df_43.sort_values(by='доля активных школ от зарегистрированных в \"Моей школе\"',ascending=False,inplace=True)\n",
    "\n",
    "for row in dataframe_to_rows(df_43,index=False,header=True):\n",
    "    wb['43 Доля активных школ'].append(row)\n",
    "# сохраняем по ширине колонок\n",
    "for column in wb['43 Доля активных школ'].columns:\n",
    "    max_length = 0\n",
    "    column_name = get_column_letter(column[0].column)\n",
    "    for cell in column:\n",
    "        try:\n",
    "            if len(str(cell.value)) > max_length:\n",
    "                max_length = len(cell.value)\n",
    "        except:\n",
    "            pass\n",
    "    adjusted_width = (max_length + 2)\n",
    "    wb['43 Доля активных школ'].column_dimensions[column_name].width = adjusted_width"
   ]
  },
  {
   "cell_type": "code",
   "execution_count": 33,
   "id": "fbd1709f",
   "metadata": {},
   "outputs": [],
   "source": [
    "chart = BarChart()\n",
    "chart.title = \"Диаграмма\"\n",
    "chart.y_axis.title = 'Процент активных школ'\n",
    "chart.x_axis.title = 'Муниципалитет'\n",
    "\n",
    "data = Reference(wb['43 Доля активных школ'], min_col=2, min_row=1, max_row=len(df_43)+1, max_col=2)\n",
    "categories = Reference(wb['43 Доля активных школ'], min_col=1, min_row=2, max_row=len(df_43)+1)\n",
    "# Установите размер диаграммы\n",
    "chart.width = 30  # Установите желаемую ширину диаграммы\n",
    "chart.height = 20  # Установите желаемую высоту диаграммы\n",
    "\n",
    "chart.add_data(data, titles_from_data=True)\n",
    "chart.set_categories(categories)\n",
    "chart.y_axis.title = None\n",
    "chart.type = \"bar\"\n",
    "\n",
    "wb['43 Доля активных школ'].add_chart(chart, \"D1\")\n"
   ]
  },
  {
   "cell_type": "code",
   "execution_count": 34,
   "id": "de92e888",
   "metadata": {},
   "outputs": [],
   "source": [
    "# 44\n",
    "df_44 = pd.read_excel(data_file,sheet_name=lst_sheet[1]) # получаем рейтинг активных муниципалитов\n",
    "df_44.iloc[:,1] =df_44.iloc[:,1].astype(float)\n",
    "\n",
    "\n",
    "df_44.rename(columns={'Unnamed: 0':'Муниципалитет'},inplace=True)\n",
    "\n",
    "df_44.sort_values(by='доля активных пользователей в \"Моей школе\"',ascending=False,inplace=True)\n",
    "\n",
    "\n",
    "for row in dataframe_to_rows(df_44,index=False,header=True):\n",
    "    wb['44 Доля активных польз'].append(row)\n",
    "# сохраняем по ширине колонок\n",
    "for column in wb['44 Доля активных польз'].columns:\n",
    "    max_length = 0\n",
    "    column_name = get_column_letter(column[0].column)\n",
    "    for cell in column:\n",
    "        try:\n",
    "            if len(str(cell.value)) > max_length:\n",
    "                max_length = len(cell.value)\n",
    "        except:\n",
    "            pass\n",
    "    adjusted_width = (max_length + 2)\n",
    "    wb['44 Доля активных польз'].column_dimensions[column_name].width = adjusted_width"
   ]
  },
  {
   "cell_type": "code",
   "execution_count": null,
   "id": "ac7d4ca3",
   "metadata": {},
   "outputs": [],
   "source": []
  },
  {
   "cell_type": "code",
   "execution_count": 35,
   "id": "e3b6d5a3",
   "metadata": {},
   "outputs": [],
   "source": [
    "chart = BarChart()\n",
    "chart.title = \"Диаграмма\"\n",
    "chart.y_axis.title = 'Процент активных пользователей'\n",
    "chart.x_axis.title = 'Муниципалитет'\n",
    "\n",
    "data = Reference(wb['44 Доля активных польз'], min_col=2, min_row=1, max_row=len(df_44)+1, max_col=2)\n",
    "categories = Reference(wb['44 Доля активных польз'], min_col=1, min_row=2, max_row=len(df_44)+1)\n",
    "# Установите размер диаграммы\n",
    "chart.width = 30  # Установите желаемую ширину диаграммы\n",
    "chart.height = 20  # Установите желаемую высоту диаграммы\n",
    "\n",
    "chart.add_data(data, titles_from_data=True)\n",
    "chart.set_categories(categories)\n",
    "chart.y_axis.title = None\n",
    "chart.type = \"bar\"\n",
    "\n",
    "wb['44 Доля активных польз'].add_chart(chart, \"D1\")\n",
    "\n"
   ]
  },
  {
   "cell_type": "code",
   "execution_count": null,
   "id": "2671e3c6",
   "metadata": {},
   "outputs": [],
   "source": []
  },
  {
   "cell_type": "code",
   "execution_count": null,
   "id": "36118342",
   "metadata": {},
   "outputs": [],
   "source": []
  },
  {
   "cell_type": "code",
   "execution_count": 36,
   "id": "f3e009f4",
   "metadata": {},
   "outputs": [],
   "source": [
    "t = time.localtime()\n",
    "current_time = time.strftime('%H_%M_%S', t)"
   ]
  },
  {
   "cell_type": "code",
   "execution_count": null,
   "id": "3d207fc7",
   "metadata": {},
   "outputs": [],
   "source": []
  },
  {
   "cell_type": "code",
   "execution_count": 37,
   "id": "a5c0449c",
   "metadata": {},
   "outputs": [],
   "source": [
    "wb.save(f'{path_end_folder}/Данные от {current_time}.xlsx')"
   ]
  }
 ],
 "metadata": {
  "kernelspec": {
   "display_name": "Python 3 (ipykernel)",
   "language": "python",
   "name": "python3"
  },
  "language_info": {
   "codemirror_mode": {
    "name": "ipython",
    "version": 3
   },
   "file_extension": ".py",
   "mimetype": "text/x-python",
   "name": "python",
   "nbconvert_exporter": "python",
   "pygments_lexer": "ipython3",
   "version": "3.9.7"
  }
 },
 "nbformat": 4,
 "nbformat_minor": 5
}
