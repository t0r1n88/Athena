{
 "cells": [
  {
   "cell_type": "code",
   "execution_count": 148,
   "id": "6ea46f13",
   "metadata": {},
   "outputs": [
    {
     "data": {
      "text/plain": [
       "'\\nМелкие скрипты для работы мое2й школы\\n'"
      ]
     },
     "execution_count": 148,
     "metadata": {},
     "output_type": "execute_result"
    }
   ],
   "source": [
    "\"\"\"\n",
    "Мелкие скрипты для работы мое2й школы\n",
    "\"\"\""
   ]
  },
  {
   "cell_type": "code",
   "execution_count": 149,
   "id": "e2868b8d",
   "metadata": {},
   "outputs": [],
   "source": [
    "import pandas as pd\n",
    "import openpyxl\n",
    "from openpyxl.utils.dataframe import dataframe_to_rows\n",
    "from openpyxl.utils import get_column_letter\n",
    "import time\n",
    "from openpyxl.chart import BarChart, Reference\n",
    "import numpy as np"
   ]
  },
  {
   "cell_type": "code",
   "execution_count": 150,
   "id": "75a249b7",
   "metadata": {},
   "outputs": [],
   "source": [
    "data_file = 'data/Аналитика 30_10_2023.xlsx'\n",
    "end_folder = 'data'"
   ]
  },
  {
   "cell_type": "code",
   "execution_count": 151,
   "id": "985e7002",
   "metadata": {},
   "outputs": [],
   "source": [
    "wb_temp = openpyxl.load_workbook(data_file,read_only=True)\n",
    "lst_sheet = [] # листы для обработки\n",
    "for sheet in  wb_temp.sheetnames:\n",
    "    if ('43' in sheet) or ('44' in sheet):\n",
    "        lst_sheet.append(sheet)\n",
    "wb_temp.close()"
   ]
  },
  {
   "cell_type": "code",
   "execution_count": 152,
   "id": "71231955",
   "metadata": {},
   "outputs": [],
   "source": [
    "wb = openpyxl.Workbook() # создаем итоговый файл\n",
    "wb.create_sheet(title='43 Доля активных школ',index=0)\n",
    "wb.create_sheet(title='44 Доля активных польз',index=1)\n",
    "\n",
    "del wb['Sheet']"
   ]
  },
  {
   "cell_type": "code",
   "execution_count": 153,
   "id": "bef9db05",
   "metadata": {},
   "outputs": [
    {
     "data": {
      "text/plain": [
       "['43. Виджет - Рейтинг муниципали', '44. Виджет - Рейтинг муниц. по ']"
      ]
     },
     "execution_count": 153,
     "metadata": {},
     "output_type": "execute_result"
    }
   ],
   "source": [
    "lst_sheet"
   ]
  },
  {
   "cell_type": "code",
   "execution_count": 154,
   "id": "afadc36e",
   "metadata": {},
   "outputs": [],
   "source": [
    "df_43 = pd.read_excel(data_file,sheet_name=lst_sheet[0]) # получаем рейтинг активных школ по муниципалитетам\n",
    "df_43.iloc[:,1] =df_43.iloc[:,1].astype(float)\n",
    "\n",
    "\n",
    "df_43.rename(columns={'Unnamed: 0':'Муниципалитет'},inplace=True)\n",
    "\n",
    "df_43.sort_values(by='доля активных школ от зарегистрированных в \"Моей школе\"',ascending=False,inplace=True)\n",
    "\n",
    "\n",
    "for row in dataframe_to_rows(df_43,index=False,header=True):\n",
    "    wb['43 Доля активных школ'].append(row)\n",
    "# сохраняем по ширине колонок\n",
    "for column in wb['43 Доля активных школ'].columns:\n",
    "    max_length = 0\n",
    "    column_name = get_column_letter(column[0].column)\n",
    "    for cell in column:\n",
    "        try:\n",
    "            if len(str(cell.value)) > max_length:\n",
    "                max_length = len(cell.value)\n",
    "        except:\n",
    "            pass\n",
    "    adjusted_width = (max_length + 2)\n",
    "    wb['43 Доля активных школ'].column_dimensions[column_name].width = adjusted_width"
   ]
  },
  {
   "cell_type": "code",
   "execution_count": 155,
   "id": "f07e7294",
   "metadata": {},
   "outputs": [],
   "source": [
    "chart = BarChart()\n",
    "chart.title = \"Диаграмма\"\n",
    "chart.y_axis.title = 'Процент активных школ'\n",
    "chart.x_axis.title = 'Муниципалитет'\n",
    "\n",
    "data = Reference(wb['43 Доля активных школ'], min_col=2, min_row=1, max_row=len(df_43)+1, max_col=2)\n",
    "categories = Reference(wb['43 Доля активных школ'], min_col=1, min_row=2, max_row=len(df_43)+1)\n",
    "# Установите размер диаграммы\n",
    "chart.width = 30  # Установите желаемую ширину диаграммы\n",
    "chart.height = 20  # Установите желаемую высоту диаграммы\n",
    "\n",
    "chart.add_data(data, titles_from_data=True)\n",
    "chart.set_categories(categories)\n",
    "chart.y_axis.title = None\n",
    "chart.type = \"bar\"\n",
    "\n",
    "wb['43 Доля активных школ'].add_chart(chart, \"D1\")\n"
   ]
  },
  {
   "cell_type": "code",
   "execution_count": 156,
   "id": "2b81eadc",
   "metadata": {},
   "outputs": [],
   "source": [
    "# 44\n",
    "df_44 = pd.read_excel(data_file,sheet_name=lst_sheet[1]) # получаем рейтинг активных школ по муниципалитетам\n",
    "df_44.iloc[:,1] =df_44.iloc[:,1].astype(float)\n",
    "\n",
    "\n",
    "df_44.rename(columns={'Unnamed: 0':'Муниципалитет'},inplace=True)\n",
    "\n",
    "df_44.sort_values(by='доля активных пользователей в \"Моей школе\"',ascending=False,inplace=True)\n",
    "\n",
    "\n",
    "for row in dataframe_to_rows(df_44,index=False,header=True):\n",
    "    wb['44 Доля активных польз'].append(row)\n",
    "# сохраняем по ширине колонок\n",
    "for column in wb['44 Доля активных польз'].columns:\n",
    "    max_length = 0\n",
    "    column_name = get_column_letter(column[0].column)\n",
    "    for cell in column:\n",
    "        try:\n",
    "            if len(str(cell.value)) > max_length:\n",
    "                max_length = len(cell.value)\n",
    "        except:\n",
    "            pass\n",
    "    adjusted_width = (max_length + 2)\n",
    "    wb['44 Доля активных польз'].column_dimensions[column_name].width = adjusted_width"
   ]
  },
  {
   "cell_type": "code",
   "execution_count": null,
   "id": "66565eec",
   "metadata": {},
   "outputs": [],
   "source": []
  },
  {
   "cell_type": "code",
   "execution_count": 157,
   "id": "d403a851",
   "metadata": {},
   "outputs": [],
   "source": [
    "chart = BarChart()\n",
    "chart.title = \"Диаграмма\"\n",
    "chart.y_axis.title = 'Процент активных пользователей'\n",
    "chart.x_axis.title = 'Муниципалитет'\n",
    "\n",
    "data = Reference(wb['44 Доля активных польз'], min_col=2, min_row=1, max_row=len(df_44)+1, max_col=2)\n",
    "categories = Reference(wb['44 Доля активных польз'], min_col=1, min_row=2, max_row=len(df_44)+1)\n",
    "# Установите размер диаграммы\n",
    "chart.width = 30  # Установите желаемую ширину диаграммы\n",
    "chart.height = 20  # Установите желаемую высоту диаграммы\n",
    "\n",
    "chart.add_data(data, titles_from_data=True)\n",
    "chart.set_categories(categories)\n",
    "chart.y_axis.title = None\n",
    "chart.type = \"bar\"\n",
    "\n",
    "wb['44 Доля активных польз'].add_chart(chart, \"D1\")\n",
    "\n"
   ]
  },
  {
   "cell_type": "code",
   "execution_count": null,
   "id": "40dc26b3",
   "metadata": {},
   "outputs": [],
   "source": []
  },
  {
   "cell_type": "code",
   "execution_count": null,
   "id": "7486ebe2",
   "metadata": {},
   "outputs": [],
   "source": []
  },
  {
   "cell_type": "code",
   "execution_count": 158,
   "id": "c9f7ee2e",
   "metadata": {},
   "outputs": [],
   "source": [
    "t = time.localtime()\n",
    "current_time = time.strftime('%H_%M_%S', t)"
   ]
  },
  {
   "cell_type": "code",
   "execution_count": null,
   "id": "b919f75d",
   "metadata": {},
   "outputs": [],
   "source": []
  },
  {
   "cell_type": "code",
   "execution_count": 159,
   "id": "b9d6572d",
   "metadata": {},
   "outputs": [],
   "source": [
    "wb.save(f'{end_folder}/Данные от {current_time}.xlsx')"
   ]
  }
 ],
 "metadata": {
  "kernelspec": {
   "display_name": "Python 3 (ipykernel)",
   "language": "python",
   "name": "python3"
  },
  "language_info": {
   "codemirror_mode": {
    "name": "ipython",
    "version": 3
   },
   "file_extension": ".py",
   "mimetype": "text/x-python",
   "name": "python",
   "nbconvert_exporter": "python",
   "pygments_lexer": "ipython3",
   "version": "3.9.13"
  }
 },
 "nbformat": 4,
 "nbformat_minor": 5
}
